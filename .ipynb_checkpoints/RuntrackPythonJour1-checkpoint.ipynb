{
 "cells": [
  {
   "cell_type": "code",
   "execution_count": 2,
   "id": "869541b6-d274-4f16-977c-0a074b718892",
   "metadata": {},
   "outputs": [
    {
     "data": {
      "text/plain": [
       "'Écrire un programme qui itère les nombres entiers de 1 à 100. Pour les multiples de trois, afficher \"Fizz\" au lieu du nombre et pour les multiples de cinq afficher \"Buzz\". Pour les nombres qui sont des multiples de trois et cinq, afficher \"FizzBuzz\".'"
      ]
     },
     "execution_count": 2,
     "metadata": {},
     "output_type": "execute_result"
    }
   ],
   "source": [
    "'Écrire un programme qui itère les nombres entiers de 1 à 100. Pour les multiples de trois, \\\n",
    "afficher \"Fizz\" au lieu du nombre et pour les multiples de cinq afficher \"Buzz\". \\\n",
    "Pour les nombres qui sont des multiples de trois et cinq, afficher \"FizzBuzz\".'"
   ]
  },
  {
   "cell_type": "code",
   "execution_count": 4,
   "id": "d58e28e4-cdff-4eb9-8ebc-d4947cd481ce",
   "metadata": {},
   "outputs": [
    {
     "name": "stdout",
     "output_type": "stream",
     "text": [
      "0 FizzBuzz\n",
      "1\n",
      "2\n",
      "3 Fizz\n",
      "4\n",
      "5 Buzz\n",
      "6 Fizz\n",
      "7\n",
      "8\n",
      "9 Fizz\n",
      "10 Buzz\n",
      "11\n",
      "12 Fizz\n",
      "13\n",
      "14\n",
      "15 FizzBuzz\n",
      "16\n",
      "17\n",
      "18 Fizz\n",
      "19\n",
      "20 Buzz\n",
      "21 Fizz\n",
      "22\n",
      "23\n",
      "24 Fizz\n",
      "25 Buzz\n",
      "26\n",
      "27 Fizz\n",
      "28\n",
      "29\n",
      "30 FizzBuzz\n",
      "31\n",
      "32\n",
      "33 Fizz\n",
      "34\n",
      "35 Buzz\n",
      "36 Fizz\n",
      "37\n",
      "38\n",
      "39 Fizz\n",
      "40 Buzz\n",
      "41\n",
      "42 Fizz\n",
      "43\n",
      "44\n",
      "45 FizzBuzz\n",
      "46\n",
      "47\n",
      "48 Fizz\n",
      "49\n",
      "50 Buzz\n",
      "51 Fizz\n",
      "52\n",
      "53\n",
      "54 Fizz\n",
      "55 Buzz\n",
      "56\n",
      "57 Fizz\n",
      "58\n",
      "59\n",
      "60 FizzBuzz\n",
      "61\n",
      "62\n",
      "63 Fizz\n",
      "64\n",
      "65 Buzz\n",
      "66 Fizz\n",
      "67\n",
      "68\n",
      "69 Fizz\n",
      "70 Buzz\n",
      "71\n",
      "72 Fizz\n",
      "73\n",
      "74\n",
      "75 FizzBuzz\n",
      "76\n",
      "77\n",
      "78 Fizz\n",
      "79\n",
      "80 Buzz\n",
      "81 Fizz\n",
      "82\n",
      "83\n",
      "84 Fizz\n",
      "85 Buzz\n",
      "86\n",
      "87 Fizz\n",
      "88\n",
      "89\n",
      "90 FizzBuzz\n",
      "91\n",
      "92\n",
      "93 Fizz\n",
      "94\n",
      "95 Buzz\n",
      "96 Fizz\n",
      "97\n",
      "98\n",
      "99 Fizz\n"
     ]
    }
   ],
   "source": [
    "for i in range(100):\n",
    "    if i%3 ==0 and i%5==0:\n",
    "        print(i,\"FizzBuzz\")\n",
    "    elif i%3==0:\n",
    "        print(i,\"Fizz\")\n",
    "    elif i%5==0:\n",
    "        print(i,\"Buzz\")\n",
    "    else:\n",
    "        print(i)"
   ]
  },
  {
   "cell_type": "code",
   "execution_count": 33,
   "id": "55694fc5-1a3a-4aff-8f0f-d6835a1c405f",
   "metadata": {},
   "outputs": [
    {
     "name": "stdout",
     "output_type": "stream",
     "text": [
      "|--------|\n",
      "|        |\n",
      "|--------|\n",
      "\n"
     ]
    }
   ],
   "source": [
    "def draw_rectangle(colls=10, lines=3):\n",
    "    rect = \"\"\n",
    "    for i in range(lines):\n",
    "        line = \"|\"\n",
    "        for j in range(colls-2):\n",
    "            line += \"-\" if i==0 or i==lines-1 else \" \"\n",
    "        line += \"|\\n\"\n",
    "        rect += line\n",
    "    print(rect)\n",
    "        \n",
    "draw_rectangle()\n",
    "        "
   ]
  },
  {
   "cell_type": "code",
   "execution_count": 42,
   "id": "b903cb63-c628-4755-a99b-c3ad7cfc0053",
   "metadata": {},
   "outputs": [
    {
     "name": "stdout",
     "output_type": "stream",
     "text": [
      "    /\\\n",
      "   /  \\\n",
      "  /    \\\n",
      " /      \\\n",
      "/--------\\\n",
      "\n"
     ]
    }
   ],
   "source": [
    "def draw_triangle(height=5):\n",
    "    triangle = \"\"\n",
    "    for i in range(height):\n",
    "        c = \" \"\n",
    "        if i == height-1:\n",
    "            c=\"-\"  \n",
    "        triangle += \" \" * (height-i-1)\n",
    "        triangle += \"/\" + c *(2*i) + \"\\\\\"\n",
    "        triangle += \"\\n\"\n",
    "    print (triangle)\n",
    "    \n",
    "draw_triangle()\n",
    "    "
   ]
  },
  {
   "cell_type": "code",
   "execution_count": 70,
   "id": "4d48e78f-40da-43fd-9b06-74551649978f",
   "metadata": {},
   "outputs": [],
   "source": [
    "def rounding(n):\n",
    "    c = n%10\n",
    "    n/=10\n",
    "    if c%5>=3:\n",
    "        c = 5-c%5\n",
    "    else:\n",
    "        c=0\n",
    "    n *= 10\n",
    "    n += c\n",
    "\n",
    "    return n"
   ]
  },
  {
   "cell_type": "code",
   "execution_count": 71,
   "id": "aa6632e4-576b-4322-82af-290a23197be3",
   "metadata": {},
   "outputs": [
    {
     "data": {
      "text/plain": [
       "[80.0, 81.0, 82.0, 85.0, 85.0, 85.0, 86.0, 87.0, 90.0, 90.0, 90.0]"
      ]
     },
     "execution_count": 71,
     "metadata": {},
     "output_type": "execute_result"
    }
   ],
   "source": [
    "[rounding(i) for i in range (80,91)]"
   ]
  },
  {
   "cell_type": "code",
   "execution_count": 92,
   "id": "391e8cf5-8c42-4bee-9a32-b70c8f1688a2",
   "metadata": {},
   "outputs": [
    {
     "data": {
      "text/plain": [
       "'abced'"
      ]
     },
     "execution_count": 92,
     "metadata": {},
     "output_type": "execute_result"
    }
   ],
   "source": [
    "import itertools\n",
    "word = \"abcde\"\n",
    "perm = list(itertools.permutations(word))\n",
    "perm = [\"\".join(i) for i in perm]\n",
    "min([i for i in perm if i>word])\n"
   ]
  },
  {
   "cell_type": "code",
   "execution_count": null,
   "id": "dce6b6fd-babe-464c-93f7-e4bac753e5c3",
   "metadata": {},
   "outputs": [],
   "source": []
  },
  {
   "cell_type": "code",
   "execution_count": null,
   "id": "539f1fba-8fee-46bc-a190-cf3cbfe21b5c",
   "metadata": {},
   "outputs": [],
   "source": []
  },
  {
   "cell_type": "code",
   "execution_count": null,
   "id": "4549129c-50fb-40d8-9e9c-cc819fa8aa10",
   "metadata": {},
   "outputs": [],
   "source": []
  }
 ],
 "metadata": {
  "kernelspec": {
   "display_name": "Python 3 (ipykernel)",
   "language": "python",
   "name": "python3"
  },
  "language_info": {
   "codemirror_mode": {
    "name": "ipython",
    "version": 3
   },
   "file_extension": ".py",
   "mimetype": "text/x-python",
   "name": "python",
   "nbconvert_exporter": "python",
   "pygments_lexer": "ipython3",
   "version": "3.9.0"
  }
 },
 "nbformat": 4,
 "nbformat_minor": 5
}

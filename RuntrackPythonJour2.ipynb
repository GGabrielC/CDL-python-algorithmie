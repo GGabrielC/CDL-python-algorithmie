{
 "cells": [
  {
   "cell_type": "code",
   "execution_count": 46,
   "id": "1e643bce-f0dc-4459-be15-863abc6b1688",
   "metadata": {},
   "outputs": [
    {
     "name": "stdout",
     "output_type": "stream",
     "text": [
      "Macron Emanuel\n",
      "Einstein Albert\n"
     ]
    }
   ],
   "source": [
    "class Person:\n",
    "    def __init__(self, n, fn):\n",
    "        self.name = n\n",
    "        self.firstname = fn\n",
    "        \n",
    "    def present(self):\n",
    "        print(self)\n",
    "        \n",
    "    def __str__(self):\n",
    "        return \"{} {}\".format(self.name, self.firstname)\n",
    "    \n",
    "print(Person(\"Macron\", \"Emanuel\"))\n",
    "Person(\"Einstein\", \"Albert\").present()"
   ]
  },
  {
   "cell_type": "code",
   "execution_count": 47,
   "id": "e067ff72-12f6-4935-a7c9-8f76f7be4f3f",
   "metadata": {},
   "outputs": [
    {
     "name": "stdout",
     "output_type": "stream",
     "text": [
      "Xi Jinping\n",
      "How to invade Taiwan by Xi Jinping\n"
     ]
    }
   ],
   "source": [
    "class Author(Person):\n",
    "    def __init__(self, ln:str, fn:str):\n",
    "        super().__init__(ln, fn)\n",
    "        self.work=[]\n",
    "        \n",
    "    def writeBook(self, title:str):\n",
    "        self.work.append(Book(title,self))\n",
    "        \n",
    "    def listWork(self):\n",
    "        [print(i) for i in self.work]\n",
    "                \n",
    "class Book:\n",
    "    def __init__(self, title:str, author:Author):\n",
    "        self.title = title\n",
    "        self.author= author\n",
    "        \n",
    "    def print(self):\n",
    "        print(\"a:{}, t:{}\".format(self.author, self.title))\n",
    "        \n",
    "    def __str__(self):\n",
    "        return \"{} by {}\".format(self.title, self.author)\n",
    "        \n",
    "a = Author(\"Xi\", \"Jinping\")\n",
    "a.writeBook(\"How to invade Taiwan\")\n",
    "\n",
    "a.present()\n",
    "a.listWork()\n"
   ]
  },
  {
   "cell_type": "code",
   "execution_count": null,
   "id": "8f135cd8-fe6b-453c-a71e-6005f1138d4f",
   "metadata": {},
   "outputs": [],
   "source": [
    "class Client(Person):\n",
    "    def __init__(self, ln:str, fn:str):\n",
    "        super().__init__(ln, fn)\n",
    "        \n",
    "class Library:\n",
    "    def __init__(self, n:str):\n",
    "        self.n=n\n",
    "        self.catalogue = {}\n",
    "        self.customers = {} \n",
    "    \n",
    "    def purchaseBook(self, author:Author, bookName:str, count:int):\n",
    "        d = self.catalogue\n",
    "        d.setdefault(bookName, d[bookName]+count if book in d else count)\n",
    "            \n",
    "    def inventory(self):\n",
    "        print(self.catalogue)\n",
    "    \n",
    "    def rent(self, bookName:Book, client:client)\n",
    "        c = self.customers\n",
    "        d = self.catalogue\n",
    "        bn = bookName\n",
    "        if bookName in d and d[bn] and bookName not in c[bn]:\n",
    "            c.setdefault(client, [*c[client],bn] if client in c else [bn])\n",
    "            d[bn] -= 1\n",
    "    \n",
    "    def retrieve(self, client:Client):\n",
    "        for b in self.customers[client]:\n",
    "            self.catalogue[b] += 1\n",
    "        c[client] = []\n",
    "\n",
    "a = Author(\"Kim\", \"Jong-Un\")\n",
    "a.writeBook(\"Contagious peace making\")\n",
    "a.writeBook(\"How to gently pick up flowers\")\n",
    "\n",
    "l = Library()\n",
    "l.purchaseBook(a, \"Contagious peace making\")\n",
    "\n",
    "c = Client(\"Putin\", \"Vladimir\")\n"
   ]
  },
  {
   "cell_type": "code",
   "execution_count": null,
   "id": "004fd99c-7283-4b5d-96a2-52876bfc8183",
   "metadata": {},
   "outputs": [],
   "source": [
    "\n",
    "class Board:\n",
    "    def __init__(i:int, j:int):\n",
    "        self.t = [[0 for j in range(j)] for i in range i]\n",
    "    def play(column:int, color:str):\n",
    "        "
   ]
  },
  {
   "cell_type": "code",
   "execution_count": null,
   "id": "53c733b8-0b64-4f04-a291-e6e769bf7833",
   "metadata": {},
   "outputs": [],
   "source": []
  }
 ],
 "metadata": {
  "kernelspec": {
   "display_name": "Python 3 (ipykernel)",
   "language": "python",
   "name": "python3"
  },
  "language_info": {
   "codemirror_mode": {
    "name": "ipython",
    "version": 3
   },
   "file_extension": ".py",
   "mimetype": "text/x-python",
   "name": "python",
   "nbconvert_exporter": "python",
   "pygments_lexer": "ipython3",
   "version": "3.9.0"
  }
 },
 "nbformat": 4,
 "nbformat_minor": 5
}
